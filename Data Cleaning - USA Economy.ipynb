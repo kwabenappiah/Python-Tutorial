{
 "cells": [
  {
   "cell_type": "markdown",
   "id": "908e6b57-9036-4884-a54f-db000523689a",
   "metadata": {},
   "source": [
    "### <span style=\"font-family:candara\">Minneapolis table Parse</span>\n",
    "<span style=\"font-family:candara\">**Created by** : Isaac Kwabena Owusu-Appiah</span><br>\n",
    "<span style=\"font-family:candara\">**Date** : $12^{th}$ August, 2022</span> \n",
    "#### <span style=\"font-family:candara\">1.1: Problem Statement</span>\n",
    "<span style=\"font-family:candara\">To parse table and clean it using Pandas.read_html - (**Data Cleaning**)</span>\n",
    "\n",
    "#### <span style=\"font-family:candara\">Installing Packages</span>"
   ]
  },
  {
   "cell_type": "code",
   "execution_count": 1,
   "id": "54e13439-ad54-4c23-a975-152fbd57586a",
   "metadata": {},
   "outputs": [],
   "source": [
    "# Packages for analysis\n",
    "import pandas as pd\n",
    "import numpy as np\n",
    "import matplotlib.pyplot as plt\n",
    "\n",
    "import warnings\n",
    "warnings.filterwarnings('ignore')"
   ]
  },
  {
   "cell_type": "code",
   "execution_count": 2,
   "id": "bb4b1062-ad8a-4ad6-bbfb-7f5d8265bcd1",
   "metadata": {},
   "outputs": [],
   "source": [
    "table_min = pd.read_html('https://en.wikipedia.org/wiki/Minneapolis')"
   ]
  },
  {
   "cell_type": "markdown",
   "id": "5f7640c7-1434-449c-bf12-aaa979a48362",
   "metadata": {},
   "source": [
    "<span style=\"font-family:candara\">The unique point here is that table_MN is a list of all the tables on the page:</span>"
   ]
  },
  {
   "cell_type": "code",
   "execution_count": 3,
   "id": "9eb4cf00-a6d8-4e87-b6a4-ffda931b297d",
   "metadata": {},
   "outputs": [
    {
     "name": "stdout",
     "output_type": "stream",
     "text": [
      "Total tables: 17\n"
     ]
    }
   ],
   "source": [
    "print(f'Total tables: {len(table_min)}')"
   ]
  },
  {
   "cell_type": "markdown",
   "id": "eedb3505-8fbd-4c3c-8c2a-9b0808ade5e6",
   "metadata": {},
   "source": [
    "><span style=\"font-family:candara\">With 17 tables, it can be challenging to find the one we need. To make the tables selection easier, use the match parameter to select a subset of tables. We can use the caption 'Election results from statewide races' to select the table</span>"
   ]
  },
  {
   "cell_type": "code",
   "execution_count": 4,
   "id": "91a21023-a673-4749-8c7d-d0c0f8ba222c",
   "metadata": {},
   "outputs": [
    {
     "data": {
      "text/plain": [
       "1"
      ]
     },
     "execution_count": 4,
     "metadata": {},
     "output_type": "execute_result"
    }
   ],
   "source": [
    "# Read in the wikipedia page and get the dataframe\n",
    "table_co = pd.read_html('https://en.wikipedia.org/wiki/Minneapolis', match = 'Minneapolis companies ')\n",
    "len(table_co)"
   ]
  },
  {
   "cell_type": "code",
   "execution_count": 5,
   "id": "ed67ad5d-1039-44f3-b8e8-a655f819c95e",
   "metadata": {},
   "outputs": [
    {
     "data": {
      "text/html": [
       "<div>\n",
       "<style scoped>\n",
       "    .dataframe tbody tr th:only-of-type {\n",
       "        vertical-align: middle;\n",
       "    }\n",
       "\n",
       "    .dataframe tbody tr th {\n",
       "        vertical-align: top;\n",
       "    }\n",
       "\n",
       "    .dataframe thead th {\n",
       "        text-align: right;\n",
       "    }\n",
       "</style>\n",
       "<table border=\"1\" class=\"dataframe\">\n",
       "  <thead>\n",
       "    <tr style=\"text-align: right;\">\n",
       "      <th></th>\n",
       "      <th>0</th>\n",
       "      <th>1</th>\n",
       "      <th>2</th>\n",
       "      <th>3</th>\n",
       "    </tr>\n",
       "  </thead>\n",
       "  <tbody>\n",
       "    <tr>\n",
       "      <th>0</th>\n",
       "      <td>Minneapolis  rank</td>\n",
       "      <td>Corporation</td>\n",
       "      <td>US rank</td>\n",
       "      <td>Revenue (in millions)</td>\n",
       "    </tr>\n",
       "    <tr>\n",
       "      <th>1</th>\n",
       "      <td>1</td>\n",
       "      <td>Target Corporation</td>\n",
       "      <td>33</td>\n",
       "      <td>$109,120</td>\n",
       "    </tr>\n",
       "    <tr>\n",
       "      <th>2</th>\n",
       "      <td>2</td>\n",
       "      <td>U.S. Bancorp</td>\n",
       "      <td>149</td>\n",
       "      <td>$27,401</td>\n",
       "    </tr>\n",
       "    <tr>\n",
       "      <th>3</th>\n",
       "      <td>3</td>\n",
       "      <td>Xcel Energy</td>\n",
       "      <td>271</td>\n",
       "      <td>$15,310</td>\n",
       "    </tr>\n",
       "    <tr>\n",
       "      <th>4</th>\n",
       "      <td>4</td>\n",
       "      <td>Ameriprise Financial</td>\n",
       "      <td>289</td>\n",
       "      <td>$14,347</td>\n",
       "    </tr>\n",
       "  </tbody>\n",
       "</table>\n",
       "</div>"
      ],
      "text/plain": [
       "                   0                     1        2                      3\n",
       "0  Minneapolis  rank           Corporation  US rank  Revenue (in millions)\n",
       "1                  1    Target Corporation       33               $109,120\n",
       "2                  2          U.S. Bancorp      149                $27,401\n",
       "3                  3           Xcel Energy      271                $15,310\n",
       "4                  4  Ameriprise Financial      289                $14,347"
      ]
     },
     "execution_count": 5,
     "metadata": {},
     "output_type": "execute_result"
    }
   ],
   "source": [
    "# obtain the table\n",
    "df = table_co[0]\n",
    "df.head()"
   ]
  },
  {
   "cell_type": "code",
   "execution_count": 6,
   "id": "a953ba59-a3c1-4da6-bb39-06c3879af8f8",
   "metadata": {},
   "outputs": [
    {
     "data": {
      "text/html": [
       "<div>\n",
       "<style scoped>\n",
       "    .dataframe tbody tr th:only-of-type {\n",
       "        vertical-align: middle;\n",
       "    }\n",
       "\n",
       "    .dataframe tbody tr th {\n",
       "        vertical-align: top;\n",
       "    }\n",
       "\n",
       "    .dataframe thead th {\n",
       "        text-align: right;\n",
       "    }\n",
       "</style>\n",
       "<table border=\"1\" class=\"dataframe\">\n",
       "  <thead>\n",
       "    <tr style=\"text-align: right;\">\n",
       "      <th></th>\n",
       "      <th>Minneapolis  rank</th>\n",
       "      <th>Corporation</th>\n",
       "      <th>US rank</th>\n",
       "      <th>Revenue (in millions)</th>\n",
       "    </tr>\n",
       "  </thead>\n",
       "  <tbody>\n",
       "    <tr>\n",
       "      <th>1</th>\n",
       "      <td>1</td>\n",
       "      <td>Target Corporation</td>\n",
       "      <td>33</td>\n",
       "      <td>$109,120</td>\n",
       "    </tr>\n",
       "    <tr>\n",
       "      <th>2</th>\n",
       "      <td>2</td>\n",
       "      <td>U.S. Bancorp</td>\n",
       "      <td>149</td>\n",
       "      <td>$27,401</td>\n",
       "    </tr>\n",
       "    <tr>\n",
       "      <th>3</th>\n",
       "      <td>3</td>\n",
       "      <td>Xcel Energy</td>\n",
       "      <td>271</td>\n",
       "      <td>$15,310</td>\n",
       "    </tr>\n",
       "    <tr>\n",
       "      <th>4</th>\n",
       "      <td>4</td>\n",
       "      <td>Ameriprise Financial</td>\n",
       "      <td>289</td>\n",
       "      <td>$14,347</td>\n",
       "    </tr>\n",
       "    <tr>\n",
       "      <th>5</th>\n",
       "      <td>5</td>\n",
       "      <td>Thrivent</td>\n",
       "      <td>412</td>\n",
       "      <td>$9,347</td>\n",
       "    </tr>\n",
       "  </tbody>\n",
       "</table>\n",
       "</div>"
      ],
      "text/plain": [
       "0 Minneapolis  rank           Corporation US rank Revenue (in millions)\n",
       "1                 1    Target Corporation      33              $109,120\n",
       "2                 2          U.S. Bancorp     149               $27,401\n",
       "3                 3           Xcel Energy     271               $15,310\n",
       "4                 4  Ameriprise Financial     289               $14,347\n",
       "5                 5              Thrivent     412                $9,347"
      ]
     },
     "execution_count": 6,
     "metadata": {},
     "output_type": "execute_result"
    }
   ],
   "source": [
    "# set first row as column names\n",
    "df.columns = df.iloc[0]\n",
    "df = df[1:]\n",
    "df"
   ]
  },
  {
   "cell_type": "code",
   "execution_count": 7,
   "id": "da4b0286-4071-4ec8-9895-0f3d0ef144bb",
   "metadata": {},
   "outputs": [
    {
     "name": "stdout",
     "output_type": "stream",
     "text": [
      "<class 'pandas.core.frame.DataFrame'>\n",
      "RangeIndex: 5 entries, 1 to 5\n",
      "Data columns (total 4 columns):\n",
      " #   Column                 Non-Null Count  Dtype \n",
      "---  ------                 --------------  ----- \n",
      " 0   Minneapolis  rank      5 non-null      object\n",
      " 1   Corporation            5 non-null      object\n",
      " 2   US rank                5 non-null      object\n",
      " 3   Revenue (in millions)  5 non-null      object\n",
      "dtypes: object(4)\n",
      "memory usage: 292.0+ bytes\n"
     ]
    }
   ],
   "source": [
    "# Look at data types\n",
    "df.info()"
   ]
  },
  {
   "cell_type": "code",
   "execution_count": 8,
   "id": "c1f83b4b-80aa-4fbb-a0b7-aaa8c77f0ddd",
   "metadata": {},
   "outputs": [],
   "source": [
    "def clean_colnames(df):\n",
    "    '''Function to convert column names into lowercases'''\n",
    "    new_colnames = [col.lower().strip().replace(\" \", \"_\") for col in df.columns]\n",
    "\n",
    "    df.columns = new_colnames\n",
    "    return df\n",
    "\n",
    "dfi = clean_colnames(df)"
   ]
  },
  {
   "cell_type": "code",
   "execution_count": 9,
   "id": "e25cbc4f-c98a-4566-b43b-3805be547dd6",
   "metadata": {},
   "outputs": [
    {
     "data": {
      "text/html": [
       "<div>\n",
       "<style scoped>\n",
       "    .dataframe tbody tr th:only-of-type {\n",
       "        vertical-align: middle;\n",
       "    }\n",
       "\n",
       "    .dataframe tbody tr th {\n",
       "        vertical-align: top;\n",
       "    }\n",
       "\n",
       "    .dataframe thead th {\n",
       "        text-align: right;\n",
       "    }\n",
       "</style>\n",
       "<table border=\"1\" class=\"dataframe\">\n",
       "  <thead>\n",
       "    <tr style=\"text-align: right;\">\n",
       "      <th></th>\n",
       "      <th>minneapolis__rank</th>\n",
       "      <th>corporation</th>\n",
       "      <th>us_rank</th>\n",
       "      <th>revenue</th>\n",
       "    </tr>\n",
       "  </thead>\n",
       "  <tbody>\n",
       "    <tr>\n",
       "      <th>1</th>\n",
       "      <td>1</td>\n",
       "      <td>Target Corporation</td>\n",
       "      <td>33</td>\n",
       "      <td>$109,120</td>\n",
       "    </tr>\n",
       "    <tr>\n",
       "      <th>2</th>\n",
       "      <td>2</td>\n",
       "      <td>U.S. Bancorp</td>\n",
       "      <td>149</td>\n",
       "      <td>$27,401</td>\n",
       "    </tr>\n",
       "    <tr>\n",
       "      <th>3</th>\n",
       "      <td>3</td>\n",
       "      <td>Xcel Energy</td>\n",
       "      <td>271</td>\n",
       "      <td>$15,310</td>\n",
       "    </tr>\n",
       "    <tr>\n",
       "      <th>4</th>\n",
       "      <td>4</td>\n",
       "      <td>Ameriprise Financial</td>\n",
       "      <td>289</td>\n",
       "      <td>$14,347</td>\n",
       "    </tr>\n",
       "    <tr>\n",
       "      <th>5</th>\n",
       "      <td>5</td>\n",
       "      <td>Thrivent</td>\n",
       "      <td>412</td>\n",
       "      <td>$9,347</td>\n",
       "    </tr>\n",
       "  </tbody>\n",
       "</table>\n",
       "</div>"
      ],
      "text/plain": [
       "  minneapolis__rank           corporation us_rank   revenue\n",
       "1                 1    Target Corporation      33  $109,120\n",
       "2                 2          U.S. Bancorp     149   $27,401\n",
       "3                 3           Xcel Energy     271   $15,310\n",
       "4                 4  Ameriprise Financial     289   $14,347\n",
       "5                 5              Thrivent     412    $9,347"
      ]
     },
     "execution_count": 9,
     "metadata": {},
     "output_type": "execute_result"
    }
   ],
   "source": [
    "dfi['revenue'] = df['revenue_(in_millions)'].str.split('_').str[0]\n",
    "dfi = dfi.drop(['revenue_(in_millions)'], axis = 1)\n",
    "dfi"
   ]
  },
  {
   "cell_type": "code",
   "execution_count": 10,
   "id": "3d8e7446-72b2-4ede-88a7-806b8ae269fb",
   "metadata": {},
   "outputs": [
    {
     "name": "stdout",
     "output_type": "stream",
     "text": [
      "<class 'pandas.core.frame.DataFrame'>\n",
      "RangeIndex: 5 entries, 1 to 5\n",
      "Data columns (total 4 columns):\n",
      " #   Column             Non-Null Count  Dtype \n",
      "---  ------             --------------  ----- \n",
      " 0   minneapolis__rank  5 non-null      object\n",
      " 1   corporation        5 non-null      object\n",
      " 2   us_rank            5 non-null      object\n",
      " 3   revenue            5 non-null      object\n",
      "dtypes: object(4)\n",
      "memory usage: 292.0+ bytes\n"
     ]
    }
   ],
   "source": [
    "dfi.info()"
   ]
  },
  {
   "cell_type": "code",
   "execution_count": 11,
   "id": "f0ffae18-e7ca-43aa-a30e-633040628432",
   "metadata": {},
   "outputs": [
    {
     "name": "stdout",
     "output_type": "stream",
     "text": [
      "<class 'pandas.core.frame.DataFrame'>\n",
      "RangeIndex: 5 entries, 1 to 5\n",
      "Data columns (total 4 columns):\n",
      " #   Column             Non-Null Count  Dtype \n",
      "---  ------             --------------  ----- \n",
      " 0   minneapolis__rank  5 non-null      int64 \n",
      " 1   corporation        5 non-null      object\n",
      " 2   us_rank            5 non-null      int64 \n",
      " 3   revenue            5 non-null      int64 \n",
      "dtypes: int64(3), object(1)\n",
      "memory usage: 292.0+ bytes\n"
     ]
    }
   ],
   "source": [
    "# we need to remove dollar signs and commas, then convert to numeric\n",
    "dfi['revenue'] = dfi['revenue'].replace('[\\$,]','', regex = True)\n",
    "dfi[['minneapolis__rank', 'us_rank', 'revenue']] = dfi[['minneapolis__rank', 'us_rank', 'revenue']].apply(pd.to_numeric)\n",
    "dfi.info()"
   ]
  },
  {
   "cell_type": "code",
   "execution_count": 12,
   "id": "0b5ba259-e2ff-4424-b660-090b18422e49",
   "metadata": {},
   "outputs": [
    {
     "data": {
      "text/html": [
       "<div>\n",
       "<style scoped>\n",
       "    .dataframe tbody tr th:only-of-type {\n",
       "        vertical-align: middle;\n",
       "    }\n",
       "\n",
       "    .dataframe tbody tr th {\n",
       "        vertical-align: top;\n",
       "    }\n",
       "\n",
       "    .dataframe thead th {\n",
       "        text-align: right;\n",
       "    }\n",
       "</style>\n",
       "<table border=\"1\" class=\"dataframe\">\n",
       "  <thead>\n",
       "    <tr style=\"text-align: right;\">\n",
       "      <th></th>\n",
       "      <th>minneapolis__rank</th>\n",
       "      <th>corporation</th>\n",
       "      <th>us_rank</th>\n",
       "      <th>revenue</th>\n",
       "    </tr>\n",
       "  </thead>\n",
       "  <tbody>\n",
       "    <tr>\n",
       "      <th>1</th>\n",
       "      <td>1</td>\n",
       "      <td>Target Corporation</td>\n",
       "      <td>33</td>\n",
       "      <td>109120</td>\n",
       "    </tr>\n",
       "    <tr>\n",
       "      <th>2</th>\n",
       "      <td>2</td>\n",
       "      <td>U.S. Bancorp</td>\n",
       "      <td>149</td>\n",
       "      <td>27401</td>\n",
       "    </tr>\n",
       "    <tr>\n",
       "      <th>3</th>\n",
       "      <td>3</td>\n",
       "      <td>Xcel Energy</td>\n",
       "      <td>271</td>\n",
       "      <td>15310</td>\n",
       "    </tr>\n",
       "    <tr>\n",
       "      <th>4</th>\n",
       "      <td>4</td>\n",
       "      <td>Ameriprise Financial</td>\n",
       "      <td>289</td>\n",
       "      <td>14347</td>\n",
       "    </tr>\n",
       "    <tr>\n",
       "      <th>5</th>\n",
       "      <td>5</td>\n",
       "      <td>Thrivent</td>\n",
       "      <td>412</td>\n",
       "      <td>9347</td>\n",
       "    </tr>\n",
       "  </tbody>\n",
       "</table>\n",
       "</div>"
      ],
      "text/plain": [
       "   minneapolis__rank           corporation  us_rank  revenue\n",
       "1                  1    Target Corporation       33   109120\n",
       "2                  2          U.S. Bancorp      149    27401\n",
       "3                  3           Xcel Energy      271    15310\n",
       "4                  4  Ameriprise Financial      289    14347\n",
       "5                  5              Thrivent      412     9347"
      ]
     },
     "execution_count": 12,
     "metadata": {},
     "output_type": "execute_result"
    }
   ],
   "source": [
    "dfi.head()"
   ]
  },
  {
   "cell_type": "markdown",
   "id": "87c895af-fe8a-4ffb-a911-a47b3aef7fd4",
   "metadata": {},
   "source": [
    "#### <span style=\"font-family:candara\">**Step 2**: More Advanced Cleaning</span>\n",
    "<span style=\"font-family:candara\">**table 2**</span>"
   ]
  },
  {
   "cell_type": "code",
   "execution_count": 13,
   "id": "a9245e74-add6-45aa-9a70-08e359a2272e",
   "metadata": {},
   "outputs": [],
   "source": [
    "# Read in the wikipedia page and get the DataFrame\n",
    "table_gdp = pd.read_html('https://en.wikipedia.org/wiki/Economy_of_the_United_States', match = 'Year')"
   ]
  },
  {
   "cell_type": "code",
   "execution_count": 14,
   "id": "2cf5a956-e6ac-4ad7-be17-bde7a01bcc34",
   "metadata": {},
   "outputs": [
    {
     "name": "stdout",
     "output_type": "stream",
     "text": [
      "Total tables: 1\n"
     ]
    }
   ],
   "source": [
    "print(f'Total tables: {len(table_gdp)}')"
   ]
  },
  {
   "cell_type": "code",
   "execution_count": 15,
   "id": "d2fce8c4-63cd-437f-b569-f1913385f4ef",
   "metadata": {},
   "outputs": [
    {
     "data": {
      "text/html": [
       "<div>\n",
       "<style scoped>\n",
       "    .dataframe tbody tr th:only-of-type {\n",
       "        vertical-align: middle;\n",
       "    }\n",
       "\n",
       "    .dataframe tbody tr th {\n",
       "        vertical-align: top;\n",
       "    }\n",
       "\n",
       "    .dataframe thead th {\n",
       "        text-align: right;\n",
       "    }\n",
       "</style>\n",
       "<table border=\"1\" class=\"dataframe\">\n",
       "  <thead>\n",
       "    <tr style=\"text-align: right;\">\n",
       "      <th></th>\n",
       "      <th>Year</th>\n",
       "      <th>GDP (in Bil. US$PPP)</th>\n",
       "      <th>GDP per capita (in US$ PPP)</th>\n",
       "      <th>GDP (in Bil. US$nominal)</th>\n",
       "      <th>GDP per capita (in US$ nominal)</th>\n",
       "      <th>GDP growth (real)</th>\n",
       "      <th>Inflation rate (in Percent)</th>\n",
       "      <th>Unemployment (in Percent)</th>\n",
       "      <th>Government debt (in % of GDP)</th>\n",
       "    </tr>\n",
       "  </thead>\n",
       "  <tbody>\n",
       "    <tr>\n",
       "      <th>0</th>\n",
       "      <td>1980</td>\n",
       "      <td>2857.3</td>\n",
       "      <td>12552.9</td>\n",
       "      <td>2857.3</td>\n",
       "      <td>12552.9</td>\n",
       "      <td>-0.3%</td>\n",
       "      <td>13.5%</td>\n",
       "      <td>7.2%</td>\n",
       "      <td>NaN</td>\n",
       "    </tr>\n",
       "    <tr>\n",
       "      <th>1</th>\n",
       "      <td>1981</td>\n",
       "      <td>3207.0</td>\n",
       "      <td>13948.7</td>\n",
       "      <td>3207.0</td>\n",
       "      <td>13948.7</td>\n",
       "      <td>2.5%</td>\n",
       "      <td>10.4%</td>\n",
       "      <td>7.6%</td>\n",
       "      <td>NaN</td>\n",
       "    </tr>\n",
       "    <tr>\n",
       "      <th>2</th>\n",
       "      <td>1982</td>\n",
       "      <td>3343.8</td>\n",
       "      <td>14405.0</td>\n",
       "      <td>3343.8</td>\n",
       "      <td>14405.0</td>\n",
       "      <td>-1.8%</td>\n",
       "      <td>6.2%</td>\n",
       "      <td>9.7%</td>\n",
       "      <td>NaN</td>\n",
       "    </tr>\n",
       "    <tr>\n",
       "      <th>3</th>\n",
       "      <td>1983</td>\n",
       "      <td>3634.0</td>\n",
       "      <td>15513.7</td>\n",
       "      <td>3634.0</td>\n",
       "      <td>15513.7</td>\n",
       "      <td>4.6%</td>\n",
       "      <td>3.2%</td>\n",
       "      <td>9.6%</td>\n",
       "      <td>NaN</td>\n",
       "    </tr>\n",
       "    <tr>\n",
       "      <th>4</th>\n",
       "      <td>1984</td>\n",
       "      <td>4037.7</td>\n",
       "      <td>17086.4</td>\n",
       "      <td>4037.7</td>\n",
       "      <td>17086.4</td>\n",
       "      <td>7.2%</td>\n",
       "      <td>4.4%</td>\n",
       "      <td>7.5%</td>\n",
       "      <td>NaN</td>\n",
       "    </tr>\n",
       "  </tbody>\n",
       "</table>\n",
       "</div>"
      ],
      "text/plain": [
       "   Year  GDP (in Bil. US$PPP)  GDP per capita (in US$ PPP)  \\\n",
       "0  1980                2857.3                      12552.9   \n",
       "1  1981                3207.0                      13948.7   \n",
       "2  1982                3343.8                      14405.0   \n",
       "3  1983                3634.0                      15513.7   \n",
       "4  1984                4037.7                      17086.4   \n",
       "\n",
       "   GDP (in Bil. US$nominal)  GDP per capita (in US$ nominal)  \\\n",
       "0                    2857.3                          12552.9   \n",
       "1                    3207.0                          13948.7   \n",
       "2                    3343.8                          14405.0   \n",
       "3                    3634.0                          15513.7   \n",
       "4                    4037.7                          17086.4   \n",
       "\n",
       "  GDP growth (real) Inflation rate (in Percent) Unemployment (in Percent)  \\\n",
       "0             -0.3%                       13.5%                      7.2%   \n",
       "1              2.5%                       10.4%                      7.6%   \n",
       "2             -1.8%                        6.2%                      9.7%   \n",
       "3              4.6%                        3.2%                      9.6%   \n",
       "4              7.2%                        4.4%                      7.5%   \n",
       "\n",
       "  Government debt (in % of GDP)  \n",
       "0                           NaN  \n",
       "1                           NaN  \n",
       "2                           NaN  \n",
       "3                           NaN  \n",
       "4                           NaN  "
      ]
     },
     "execution_count": 15,
     "metadata": {},
     "output_type": "execute_result"
    }
   ],
   "source": [
    "# Obtain the table\n",
    "df = table_gdp[0]\n",
    "df.head()"
   ]
  },
  {
   "cell_type": "code",
   "execution_count": 16,
   "id": "5ac45014-02ea-433b-9e53-82404f13a86c",
   "metadata": {},
   "outputs": [
    {
     "name": "stdout",
     "output_type": "stream",
     "text": [
      "<class 'pandas.core.frame.DataFrame'>\n",
      "RangeIndex: 49 entries, 0 to 48\n",
      "Data columns (total 9 columns):\n",
      " #   Column                           Non-Null Count  Dtype  \n",
      "---  ------                           --------------  -----  \n",
      " 0   Year                             49 non-null     int64  \n",
      " 1   GDP (in Bil. US$PPP)             49 non-null     float64\n",
      " 2   GDP per capita (in US$ PPP)      49 non-null     float64\n",
      " 3   GDP (in Bil. US$nominal)         49 non-null     float64\n",
      " 4   GDP per capita (in US$ nominal)  49 non-null     float64\n",
      " 5   GDP growth (real)                49 non-null     object \n",
      " 6   Inflation rate (in Percent)      49 non-null     object \n",
      " 7   Unemployment (in Percent)        49 non-null     object \n",
      " 8   Government debt (in % of GDP)    28 non-null     object \n",
      "dtypes: float64(4), int64(1), object(4)\n",
      "memory usage: 3.6+ KB\n"
     ]
    }
   ],
   "source": [
    "# Look at data types\n",
    "df.info()"
   ]
  },
  {
   "cell_type": "markdown",
   "id": "236ebb68-c8c1-4355-b704-e136fdcd4479",
   "metadata": {},
   "source": [
    "><span style=\"font-family:candara\">**Act 2**: Building a function to clean the data</span>"
   ]
  },
  {
   "cell_type": "code",
   "execution_count": 17,
   "id": "b694749d-a330-44a0-a469-75ef586da100",
   "metadata": {},
   "outputs": [],
   "source": [
    "from unicodedata import normalize\n",
    "\n",
    "def clean_normalize_whitespace(x):\n",
    "    '''Normalize unicode characters and strip trailing spaces'''\n",
    "    if isinstance(x, str):\n",
    "        return normalize('NFKC', x).replace(' ', '_').strip()\n",
    "    else:\n",
    "        return x"
   ]
  },
  {
   "cell_type": "markdown",
   "id": "0fa89cd7-5214-47f5-bfdc-28616a69e17f",
   "metadata": {},
   "source": [
    "* <span style=\"font-family:candara\">**Nxt**: Running the function on the entire dataframe</span>"
   ]
  },
  {
   "cell_type": "code",
   "execution_count": 18,
   "id": "aedca0e7-bbe0-4409-ad4e-4eba3c643721",
   "metadata": {},
   "outputs": [],
   "source": [
    "# clean up the dataframe\n",
    "dfc = df.applymap(clean_normalize_whitespace)"
   ]
  },
  {
   "cell_type": "code",
   "execution_count": 19,
   "id": "1dab91b9-d8c1-43d2-9e49-738cd6a49232",
   "metadata": {},
   "outputs": [
    {
     "data": {
      "text/plain": [
       "'Government debt (in\\xa0% of GDP)'"
      ]
     },
     "execution_count": 19,
     "metadata": {},
     "output_type": "execute_result"
    }
   ],
   "source": [
    "dfc.columns[8]"
   ]
  },
  {
   "cell_type": "code",
   "execution_count": 20,
   "id": "dfcde8dd-74ee-440b-b32b-7c9bfa71b739",
   "metadata": {},
   "outputs": [],
   "source": [
    "# clean up the columns\n",
    "dfc.columns = dfc.columns.to_series().apply(clean_normalize_whitespace)"
   ]
  },
  {
   "cell_type": "code",
   "execution_count": 21,
   "id": "6ccb8f3e-3586-4f55-b555-8fd1ee83f584",
   "metadata": {},
   "outputs": [
    {
     "data": {
      "text/html": [
       "<div>\n",
       "<style scoped>\n",
       "    .dataframe tbody tr th:only-of-type {\n",
       "        vertical-align: middle;\n",
       "    }\n",
       "\n",
       "    .dataframe tbody tr th {\n",
       "        vertical-align: top;\n",
       "    }\n",
       "\n",
       "    .dataframe thead th {\n",
       "        text-align: right;\n",
       "    }\n",
       "</style>\n",
       "<table border=\"1\" class=\"dataframe\">\n",
       "  <thead>\n",
       "    <tr style=\"text-align: right;\">\n",
       "      <th></th>\n",
       "      <th>Year</th>\n",
       "      <th>GDP_(in_Bil._US$PPP)</th>\n",
       "      <th>GDP_per_capita_(in_US$_PPP)</th>\n",
       "      <th>GDP_(in_Bil._US$nominal)</th>\n",
       "      <th>GDP_per_capita_(in_US$_nominal)</th>\n",
       "      <th>GDP_growth_(real)</th>\n",
       "      <th>Inflation_rate_(in_Percent)</th>\n",
       "      <th>Unemployment_(in_Percent)</th>\n",
       "      <th>Government_debt_(in_%_of_GDP)</th>\n",
       "    </tr>\n",
       "  </thead>\n",
       "  <tbody>\n",
       "    <tr>\n",
       "      <th>0</th>\n",
       "      <td>1980</td>\n",
       "      <td>2857.3</td>\n",
       "      <td>12552.9</td>\n",
       "      <td>2857.3</td>\n",
       "      <td>12552.9</td>\n",
       "      <td>-0.3%</td>\n",
       "      <td>13.5%</td>\n",
       "      <td>7.2%</td>\n",
       "      <td>NaN</td>\n",
       "    </tr>\n",
       "    <tr>\n",
       "      <th>1</th>\n",
       "      <td>1981</td>\n",
       "      <td>3207.0</td>\n",
       "      <td>13948.7</td>\n",
       "      <td>3207.0</td>\n",
       "      <td>13948.7</td>\n",
       "      <td>2.5%</td>\n",
       "      <td>10.4%</td>\n",
       "      <td>7.6%</td>\n",
       "      <td>NaN</td>\n",
       "    </tr>\n",
       "    <tr>\n",
       "      <th>2</th>\n",
       "      <td>1982</td>\n",
       "      <td>3343.8</td>\n",
       "      <td>14405.0</td>\n",
       "      <td>3343.8</td>\n",
       "      <td>14405.0</td>\n",
       "      <td>-1.8%</td>\n",
       "      <td>6.2%</td>\n",
       "      <td>9.7%</td>\n",
       "      <td>NaN</td>\n",
       "    </tr>\n",
       "    <tr>\n",
       "      <th>3</th>\n",
       "      <td>1983</td>\n",
       "      <td>3634.0</td>\n",
       "      <td>15513.7</td>\n",
       "      <td>3634.0</td>\n",
       "      <td>15513.7</td>\n",
       "      <td>4.6%</td>\n",
       "      <td>3.2%</td>\n",
       "      <td>9.6%</td>\n",
       "      <td>NaN</td>\n",
       "    </tr>\n",
       "    <tr>\n",
       "      <th>4</th>\n",
       "      <td>1984</td>\n",
       "      <td>4037.7</td>\n",
       "      <td>17086.4</td>\n",
       "      <td>4037.7</td>\n",
       "      <td>17086.4</td>\n",
       "      <td>7.2%</td>\n",
       "      <td>4.4%</td>\n",
       "      <td>7.5%</td>\n",
       "      <td>NaN</td>\n",
       "    </tr>\n",
       "  </tbody>\n",
       "</table>\n",
       "</div>"
      ],
      "text/plain": [
       "   Year  GDP_(in_Bil._US$PPP)  GDP_per_capita_(in_US$_PPP)  \\\n",
       "0  1980                2857.3                      12552.9   \n",
       "1  1981                3207.0                      13948.7   \n",
       "2  1982                3343.8                      14405.0   \n",
       "3  1983                3634.0                      15513.7   \n",
       "4  1984                4037.7                      17086.4   \n",
       "\n",
       "   GDP_(in_Bil._US$nominal)  GDP_per_capita_(in_US$_nominal)  \\\n",
       "0                    2857.3                          12552.9   \n",
       "1                    3207.0                          13948.7   \n",
       "2                    3343.8                          14405.0   \n",
       "3                    3634.0                          15513.7   \n",
       "4                    4037.7                          17086.4   \n",
       "\n",
       "  GDP_growth_(real) Inflation_rate_(in_Percent) Unemployment_(in_Percent)  \\\n",
       "0             -0.3%                       13.5%                      7.2%   \n",
       "1              2.5%                       10.4%                      7.6%   \n",
       "2             -1.8%                        6.2%                      9.7%   \n",
       "3              4.6%                        3.2%                      9.6%   \n",
       "4              7.2%                        4.4%                      7.5%   \n",
       "\n",
       "  Government_debt_(in_%_of_GDP)  \n",
       "0                           NaN  \n",
       "1                           NaN  \n",
       "2                           NaN  \n",
       "3                           NaN  \n",
       "4                           NaN  "
      ]
     },
     "execution_count": 21,
     "metadata": {},
     "output_type": "execute_result"
    }
   ],
   "source": [
    "dfc.head()"
   ]
  },
  {
   "cell_type": "code",
   "execution_count": 22,
   "id": "78c31435-6c97-4401-8415-1061f4293427",
   "metadata": {},
   "outputs": [
    {
     "name": "stdout",
     "output_type": "stream",
     "text": [
      "<class 'pandas.core.frame.DataFrame'>\n",
      "RangeIndex: 49 entries, 0 to 48\n",
      "Data columns (total 9 columns):\n",
      " #   Column                           Non-Null Count  Dtype  \n",
      "---  ------                           --------------  -----  \n",
      " 0   Year                             49 non-null     int64  \n",
      " 1   GDP_(in_Bil._US$PPP)             49 non-null     float64\n",
      " 2   GDP_per_capita_(in_US$_PPP)      49 non-null     float64\n",
      " 3   GDP_(in_Bil._US$nominal)         49 non-null     float64\n",
      " 4   GDP_per_capita_(in_US$_nominal)  49 non-null     float64\n",
      " 5   GDP_growth_(real)                49 non-null     object \n",
      " 6   Inflation_rate_(in_Percent)      49 non-null     object \n",
      " 7   Unemployment_(in_Percent)        49 non-null     object \n",
      " 8   Government_debt_(in_%_of_GDP)    28 non-null     object \n",
      "dtypes: float64(4), int64(1), object(4)\n",
      "memory usage: 3.6+ KB\n"
     ]
    }
   ],
   "source": [
    "dfc.info()"
   ]
  },
  {
   "cell_type": "code",
   "execution_count": 23,
   "id": "dc2dd322-b4ab-4516-92ed-1f50b3aa4c8a",
   "metadata": {},
   "outputs": [
    {
     "data": {
      "text/plain": [
       "0     13.5\n",
       "1     10.4\n",
       "2      6.2\n",
       "3      3.2\n",
       "4      4.4\n",
       "5      3.5\n",
       "6      1.9\n",
       "7      3.6\n",
       "8      4.1\n",
       "9      4.8\n",
       "10     5.4\n",
       "11     4.2\n",
       "12     3.0\n",
       "13     3.0\n",
       "14     2.6\n",
       "15     2.8\n",
       "16     2.9\n",
       "17     2.3\n",
       "18     1.5\n",
       "19     2.2\n",
       "20     3.4\n",
       "21     2.8\n",
       "22     1.6\n",
       "23     2.3\n",
       "24     2.7\n",
       "25     3.4\n",
       "26     3.2\n",
       "27     2.9\n",
       "28     3.8\n",
       "29    -0.3\n",
       "30     1.6\n",
       "31     3.1\n",
       "32     2.1\n",
       "33     1.5\n",
       "34     1.6\n",
       "35     0.1\n",
       "36     1.3\n",
       "37     2.1\n",
       "38     2.4\n",
       "39     1.8\n",
       "40     1.2\n",
       "41     4.7\n",
       "42     8.0\n",
       "43     4.1\n",
       "44     2.9\n",
       "45     2.0\n",
       "46     2.0\n",
       "47     2.1\n",
       "48     2.1\n",
       "Name: Inflation_rate_(in_Percent), dtype: object"
      ]
     },
     "execution_count": 23,
     "metadata": {},
     "output_type": "execute_result"
    }
   ],
   "source": [
    "dfc['Inflation_rate_(in_Percent)'].replace({'%': ''}, regex = True)"
   ]
  },
  {
   "cell_type": "code",
   "execution_count": 24,
   "id": "c5ed8c90-e687-4930-887c-73fe6b8ae8ad",
   "metadata": {},
   "outputs": [],
   "source": [
    "# values to replace\n",
    "clean_dict = {'%': '', '\\(est\\)': ''}"
   ]
  },
  {
   "cell_type": "code",
   "execution_count": 25,
   "id": "a7ee9342-b838-489b-9323-9475f9b1b35f",
   "metadata": {},
   "outputs": [
    {
     "data": {
      "text/html": [
       "<div>\n",
       "<style scoped>\n",
       "    .dataframe tbody tr th:only-of-type {\n",
       "        vertical-align: middle;\n",
       "    }\n",
       "\n",
       "    .dataframe tbody tr th {\n",
       "        vertical-align: top;\n",
       "    }\n",
       "\n",
       "    .dataframe thead th {\n",
       "        text-align: right;\n",
       "    }\n",
       "</style>\n",
       "<table border=\"1\" class=\"dataframe\">\n",
       "  <thead>\n",
       "    <tr style=\"text-align: right;\">\n",
       "      <th></th>\n",
       "      <th>Year</th>\n",
       "      <th>GDP_(in_Bil._US$PPP)</th>\n",
       "      <th>GDP_per_capita_(in_US$_PPP)</th>\n",
       "      <th>GDP_(in_Bil._US$nominal)</th>\n",
       "      <th>GDP_per_capita_(in_US$_nominal)</th>\n",
       "      <th>GDP_growth_(real)</th>\n",
       "      <th>Inflation_rate_(in_Percent)</th>\n",
       "      <th>Unemployment_(in_Percent)</th>\n",
       "      <th>Government_debt_(in_%_of_GDP)</th>\n",
       "    </tr>\n",
       "  </thead>\n",
       "  <tbody>\n",
       "    <tr>\n",
       "      <th>0</th>\n",
       "      <td>1980</td>\n",
       "      <td>2857.3</td>\n",
       "      <td>12552.9</td>\n",
       "      <td>2857.3</td>\n",
       "      <td>12552.9</td>\n",
       "      <td>-0.3</td>\n",
       "      <td>13.5</td>\n",
       "      <td>7.2</td>\n",
       "      <td>NaN</td>\n",
       "    </tr>\n",
       "    <tr>\n",
       "      <th>1</th>\n",
       "      <td>1981</td>\n",
       "      <td>3207.0</td>\n",
       "      <td>13948.7</td>\n",
       "      <td>3207.0</td>\n",
       "      <td>13948.7</td>\n",
       "      <td>2.5</td>\n",
       "      <td>10.4</td>\n",
       "      <td>7.6</td>\n",
       "      <td>NaN</td>\n",
       "    </tr>\n",
       "    <tr>\n",
       "      <th>2</th>\n",
       "      <td>1982</td>\n",
       "      <td>3343.8</td>\n",
       "      <td>14405.0</td>\n",
       "      <td>3343.8</td>\n",
       "      <td>14405.0</td>\n",
       "      <td>-1.8</td>\n",
       "      <td>6.2</td>\n",
       "      <td>9.7</td>\n",
       "      <td>NaN</td>\n",
       "    </tr>\n",
       "    <tr>\n",
       "      <th>3</th>\n",
       "      <td>1983</td>\n",
       "      <td>3634.0</td>\n",
       "      <td>15513.7</td>\n",
       "      <td>3634.0</td>\n",
       "      <td>15513.7</td>\n",
       "      <td>4.6</td>\n",
       "      <td>3.2</td>\n",
       "      <td>9.6</td>\n",
       "      <td>NaN</td>\n",
       "    </tr>\n",
       "    <tr>\n",
       "      <th>4</th>\n",
       "      <td>1984</td>\n",
       "      <td>4037.7</td>\n",
       "      <td>17086.4</td>\n",
       "      <td>4037.7</td>\n",
       "      <td>17086.4</td>\n",
       "      <td>7.2</td>\n",
       "      <td>4.4</td>\n",
       "      <td>7.5</td>\n",
       "      <td>NaN</td>\n",
       "    </tr>\n",
       "  </tbody>\n",
       "</table>\n",
       "</div>"
      ],
      "text/plain": [
       "   Year  GDP_(in_Bil._US$PPP)  GDP_per_capita_(in_US$_PPP)  \\\n",
       "0  1980                2857.3                      12552.9   \n",
       "1  1981                3207.0                      13948.7   \n",
       "2  1982                3343.8                      14405.0   \n",
       "3  1983                3634.0                      15513.7   \n",
       "4  1984                4037.7                      17086.4   \n",
       "\n",
       "   GDP_(in_Bil._US$nominal)  GDP_per_capita_(in_US$_nominal)  \\\n",
       "0                    2857.3                          12552.9   \n",
       "1                    3207.0                          13948.7   \n",
       "2                    3343.8                          14405.0   \n",
       "3                    3634.0                          15513.7   \n",
       "4                    4037.7                          17086.4   \n",
       "\n",
       "   GDP_growth_(real)  Inflation_rate_(in_Percent)  Unemployment_(in_Percent)  \\\n",
       "0               -0.3                         13.5                        7.2   \n",
       "1                2.5                         10.4                        7.6   \n",
       "2               -1.8                          6.2                        9.7   \n",
       "3                4.6                          3.2                        9.6   \n",
       "4                7.2                          4.4                        7.5   \n",
       "\n",
       "   Government_debt_(in_%_of_GDP)  \n",
       "0                            NaN  \n",
       "1                            NaN  \n",
       "2                            NaN  \n",
       "3                            NaN  \n",
       "4                            NaN  "
      ]
     },
     "execution_count": 25,
     "metadata": {},
     "output_type": "execute_result"
    }
   ],
   "source": [
    "# Replace values, and convert to numeric values\n",
    "dfc = dfc.replace(clean_dict, regex = True).replace({'n/a': np.nan}).apply(pd.to_numeric)\n",
    "dfc.head()"
   ]
  },
  {
   "cell_type": "code",
   "execution_count": 26,
   "id": "b403d706-ebe2-434a-a98e-aac76c6799a2",
   "metadata": {},
   "outputs": [
    {
     "name": "stdout",
     "output_type": "stream",
     "text": [
      "<class 'pandas.core.frame.DataFrame'>\n",
      "RangeIndex: 49 entries, 0 to 48\n",
      "Data columns (total 9 columns):\n",
      " #   Column                           Non-Null Count  Dtype  \n",
      "---  ------                           --------------  -----  \n",
      " 0   Year                             49 non-null     int64  \n",
      " 1   GDP_(in_Bil._US$PPP)             49 non-null     float64\n",
      " 2   GDP_per_capita_(in_US$_PPP)      49 non-null     float64\n",
      " 3   GDP_(in_Bil._US$nominal)         49 non-null     float64\n",
      " 4   GDP_per_capita_(in_US$_nominal)  49 non-null     float64\n",
      " 5   GDP_growth_(real)                49 non-null     float64\n",
      " 6   Inflation_rate_(in_Percent)      49 non-null     float64\n",
      " 7   Unemployment_(in_Percent)        49 non-null     float64\n",
      " 8   Government_debt_(in_%_of_GDP)    28 non-null     float64\n",
      "dtypes: float64(8), int64(1)\n",
      "memory usage: 3.6 KB\n"
     ]
    }
   ],
   "source": [
    "dfc.info()"
   ]
  },
  {
   "cell_type": "code",
   "execution_count": 27,
   "id": "923aef30-aa42-4f93-9407-7c9fd40e1d1c",
   "metadata": {},
   "outputs": [
    {
     "data": {
      "text/plain": [
       "<Axes: xlabel='Year'>"
      ]
     },
     "execution_count": 27,
     "metadata": {},
     "output_type": "execute_result"
    },
    {
     "data": {
      "image/png": "[encoded data removed]",
      "text/plain": [
       "<Figure size 640x480 with 1 Axes>"
      ]
     },
     "metadata": {},
     "output_type": "display_data"
    }
   ],
   "source": [
    "import seaborn as sns\n",
    "\n",
    "# Plotting data to check code\n",
    "sns.set_style('whitegrid')\n",
    "dfc.plot.line(x = 'Year', y = ['Inflation_rate_(in_Percent)', 'Unemployment_(in_Percent)'])"
   ]
  },
  {
   "cell_type": "code",
   "execution_count": null,
   "id": "02bf91b8-a802-43a8-9016-3fffeaf357f2",
   "metadata": {},
   "outputs": [],
   "source": []
  },
  {
   "cell_type": "code",
   "execution_count": null,
   "id": "ca7a5b8d-9de6-4b39-bfcd-b6d3cc18d20e",
   "metadata": {},
   "outputs": [],
   "source": []
  },
  {
   "cell_type": "code",
   "execution_count": null,
   "id": "38136055-a674-4aaf-b5d6-85d05635fa6a",
   "metadata": {},
   "outputs": [],
   "source": []
  }
 ],
 "metadata": {
  "kernelspec": {
   "display_name": "mychicago",
   "language": "python",
   "name": "mychicago"
  },
  "language_info": {
   "codemirror_mode": {
    "name": "ipython",
    "version": 3
   },
   "file_extension": ".py",
   "mimetype": "text/x-python",
   "name": "python",
   "nbconvert_exporter": "python",
   "pygments_lexer": "ipython3",
   "version": "3.12.4"
  }
 },
 "nbformat": 4,
 "nbformat_minor": 5
}
